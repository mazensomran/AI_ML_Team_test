from data_processing import load_data
from plot_drawer import PlotDrawer

# تحميل البيانات
data = load_data("data/deviation.json")

# إنشاء الرسوم البيانية
drawer = PlotDrawer(data)
plot_paths = drawer.draw_plots()

# عرض المسارات
plot_paths
